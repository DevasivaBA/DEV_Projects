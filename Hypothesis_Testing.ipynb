{
  "nbformat": 4,
  "nbformat_minor": 0,
  "metadata": {
    "colab": {
      "provenance": [],
      "authorship_tag": "ABX9TyODrz0DX2AhQm5npP+YDdj1",
      "include_colab_link": true
    },
    "kernelspec": {
      "name": "python3",
      "display_name": "Python 3"
    },
    "language_info": {
      "name": "python"
    }
  },
  "cells": [
    {
      "cell_type": "markdown",
      "metadata": {
        "id": "view-in-github",
        "colab_type": "text"
      },
      "source": [
        "<a href=\"https://colab.research.google.com/github/DevasivaBA/DEV_Projects/blob/main/Hypothesis_Testing.ipynb\" target=\"_parent\"><img src=\"https://colab.research.google.com/assets/colab-badge.svg\" alt=\"Open In Colab\"/></a>"
      ]
    },
    {
      "cell_type": "markdown",
      "source": [
        "***[Hypothesis Testing](https://machinelearningmastery.com/a-dive-into-hypothesis-testing/)***\n",
        "\n",
        "---\n",
        "\n",
        "\n",
        "**Null Hypothesis (Ho)**: The default state of no effect or no different. A statement that you aim to test against.\n",
        "\n",
        "**Alternative Hypothesis (Halpha)**: What you want to prove. It is what you believe if the null hypothesis is wrong.\n",
        "\n",
        "**Test Statisti**c: A value computed from the sample data that’s used to test the null hypothesis.\n",
        "\n",
        "**P-value**: The probability that the observed effect in the sample occurred by random chance under the null hypothesis situation\n"
      ],
      "metadata": {
        "id": "tfBVfBWQG51w"
      }
    },
    {
      "cell_type": "markdown",
      "source": [
        "# Does Air Conditioning Affect Sales Price?"
      ],
      "metadata": {
        "id": "KXUuVSF2HxuQ"
      }
    },
    {
      "cell_type": "code",
      "execution_count": 7,
      "metadata": {
        "id": "bsZRKmyzFFMv"
      },
      "outputs": [],
      "source": [
        "import pandas as pd\n",
        "import numpy as np\n",
        "import matplotlib.pyplot as plt"
      ]
    },
    {
      "cell_type": "code",
      "source": [
        "ames = pd.read_csv('/content/Ames.csv')"
      ],
      "metadata": {
        "id": "MqUTeJ6qJGoL"
      },
      "execution_count": 2,
      "outputs": []
    },
    {
      "cell_type": "code",
      "source": [
        "ames.info()"
      ],
      "metadata": {
        "colab": {
          "base_uri": "https://localhost:8080/"
        },
        "id": "5S6HaWOvJLTP",
        "outputId": "4a194530-c8bf-49a4-d43f-2d76a1da3f00"
      },
      "execution_count": 3,
      "outputs": [
        {
          "output_type": "stream",
          "name": "stdout",
          "text": [
            "<class 'pandas.core.frame.DataFrame'>\n",
            "RangeIndex: 2579 entries, 0 to 2578\n",
            "Data columns (total 85 columns):\n",
            " #   Column         Non-Null Count  Dtype  \n",
            "---  ------         --------------  -----  \n",
            " 0   PID            2579 non-null   int64  \n",
            " 1   GrLivArea      2579 non-null   int64  \n",
            " 2   SalePrice      2579 non-null   int64  \n",
            " 3   MSSubClass     2579 non-null   int64  \n",
            " 4   MSZoning       2579 non-null   object \n",
            " 5   LotFrontage    2117 non-null   float64\n",
            " 6   LotArea        2579 non-null   int64  \n",
            " 7   Street         2579 non-null   object \n",
            " 8   Alley          168 non-null    object \n",
            " 9   LotShape       2579 non-null   object \n",
            " 10  LandContour    2579 non-null   object \n",
            " 11  Utilities      2579 non-null   object \n",
            " 12  LotConfig      2579 non-null   object \n",
            " 13  LandSlope      2579 non-null   object \n",
            " 14  Neighborhood   2579 non-null   object \n",
            " 15  Condition1     2579 non-null   object \n",
            " 16  Condition2     2579 non-null   object \n",
            " 17  BldgType       2579 non-null   object \n",
            " 18  HouseStyle     2579 non-null   object \n",
            " 19  OverallQual    2579 non-null   int64  \n",
            " 20  OverallCond    2579 non-null   int64  \n",
            " 21  YearBuilt      2579 non-null   int64  \n",
            " 22  YearRemodAdd   2579 non-null   int64  \n",
            " 23  RoofStyle      2579 non-null   object \n",
            " 24  RoofMatl       2579 non-null   object \n",
            " 25  Exterior1st    2579 non-null   object \n",
            " 26  Exterior2nd    2579 non-null   object \n",
            " 27  MasVnrType     1007 non-null   object \n",
            " 28  MasVnrArea     2565 non-null   float64\n",
            " 29  ExterQual      2579 non-null   object \n",
            " 30  ExterCond      2579 non-null   object \n",
            " 31  Foundation     2579 non-null   object \n",
            " 32  BsmtQual       2510 non-null   object \n",
            " 33  BsmtCond       2510 non-null   object \n",
            " 34  BsmtExposure   2508 non-null   object \n",
            " 35  BsmtFinType1   2510 non-null   object \n",
            " 36  BsmtFinSF1     2578 non-null   float64\n",
            " 37  BsmtFinType2   2509 non-null   object \n",
            " 38  BsmtFinSF2     2578 non-null   float64\n",
            " 39  BsmtUnfSF      2578 non-null   float64\n",
            " 40  TotalBsmtSF    2578 non-null   float64\n",
            " 41  Heating        2579 non-null   object \n",
            " 42  HeatingQC      2579 non-null   object \n",
            " 43  CentralAir     2579 non-null   object \n",
            " 44  Electrical     2578 non-null   object \n",
            " 45  1stFlrSF       2579 non-null   int64  \n",
            " 46  2ndFlrSF       2579 non-null   int64  \n",
            " 47  LowQualFinSF   2579 non-null   int64  \n",
            " 48  BsmtFullBath   2577 non-null   float64\n",
            " 49  BsmtHalfBath   2577 non-null   float64\n",
            " 50  FullBath       2579 non-null   int64  \n",
            " 51  HalfBath       2579 non-null   int64  \n",
            " 52  BedroomAbvGr   2579 non-null   int64  \n",
            " 53  KitchenAbvGr   2579 non-null   int64  \n",
            " 54  KitchenQual    2579 non-null   object \n",
            " 55  TotRmsAbvGrd   2579 non-null   int64  \n",
            " 56  Functional     2579 non-null   object \n",
            " 57  Fireplaces     2579 non-null   int64  \n",
            " 58  FireplaceQu    1338 non-null   object \n",
            " 59  GarageType     2452 non-null   object \n",
            " 60  GarageYrBlt    2450 non-null   float64\n",
            " 61  GarageFinish   2450 non-null   object \n",
            " 62  GarageCars     2578 non-null   float64\n",
            " 63  GarageArea     2578 non-null   float64\n",
            " 64  GarageQual     2450 non-null   object \n",
            " 65  GarageCond     2450 non-null   object \n",
            " 66  PavedDrive     2579 non-null   object \n",
            " 67  WoodDeckSF     2579 non-null   int64  \n",
            " 68  OpenPorchSF    2579 non-null   int64  \n",
            " 69  EnclosedPorch  2579 non-null   int64  \n",
            " 70  3SsnPorch      2579 non-null   int64  \n",
            " 71  ScreenPorch    2579 non-null   int64  \n",
            " 72  PoolArea       2579 non-null   int64  \n",
            " 73  PoolQC         9 non-null      object \n",
            " 74  Fence          525 non-null    object \n",
            " 75  MiscFeature    97 non-null     object \n",
            " 76  MiscVal        2579 non-null   int64  \n",
            " 77  MoSold         2579 non-null   int64  \n",
            " 78  YrSold         2579 non-null   int64  \n",
            " 79  SaleType       2579 non-null   object \n",
            " 80  SaleCondition  2579 non-null   object \n",
            " 81  GeoRefNo       2559 non-null   float64\n",
            " 82  Prop_Addr      2559 non-null   object \n",
            " 83  Latitude       2482 non-null   float64\n",
            " 84  Longitude      2482 non-null   float64\n",
            "dtypes: float64(14), int64(27), object(44)\n",
            "memory usage: 1.7+ MB\n"
          ]
        }
      ]
    },
    {
      "cell_type": "code",
      "source": [
        "ames['CentralAir'].unique()"
      ],
      "metadata": {
        "colab": {
          "base_uri": "https://localhost:8080/"
        },
        "id": "Beer9qjjJPXi",
        "outputId": "670ffa17-7330-4d8e-b5f8-af4e2f51c5b6"
      },
      "execution_count": 4,
      "outputs": [
        {
          "output_type": "execute_result",
          "data": {
            "text/plain": [
              "array(['Y', 'N'], dtype=object)"
            ]
          },
          "metadata": {},
          "execution_count": 4
        }
      ]
    },
    {
      "cell_type": "code",
      "source": [
        "ames_acyes = ames[ames['CentralAir'] == 'Y']['SalePrice']\n",
        "ames_acno = ames[ames['CentralAir'] == 'N']['SalePrice']"
      ],
      "metadata": {
        "id": "KT43WJk3Ja22"
      },
      "execution_count": 6,
      "outputs": []
    },
    {
      "cell_type": "code",
      "source": [
        "import seaborn as sns"
      ],
      "metadata": {
        "id": "tb5XD_25KHcD"
      },
      "execution_count": 8,
      "outputs": []
    },
    {
      "cell_type": "code",
      "source": [
        "sns.histplot(ames_acyes, kde=True)"
      ],
      "metadata": {
        "colab": {
          "base_uri": "https://localhost:8080/",
          "height": 466
        },
        "id": "sponP2qtJqsq",
        "outputId": "a2f6a1ce-24dd-401f-de3a-45fe5a98e955"
      },
      "execution_count": 9,
      "outputs": [
        {
          "output_type": "execute_result",
          "data": {
            "text/plain": [
              "<Axes: xlabel='SalePrice', ylabel='Count'>"
            ]
          },
          "metadata": {},
          "execution_count": 9
        },
        {
          "output_type": "display_data",
          "data": {
            "text/plain": [
              "<Figure size 640x480 with 1 Axes>"
            ],
            "image/png": "[encoded data removed]"
          },
          "metadata": {}
        }
      ]
    },
    {
      "cell_type": "code",
      "source": [
        "sns.histplot(ames_acno, kde=True)"
      ],
      "metadata": {
        "colab": {
          "base_uri": "https://localhost:8080/",
          "height": 466
        },
        "id": "rUm5qiowKNKH",
        "outputId": "fc4a1f0b-4a17-42fa-9941-3e5ed9c78f1e"
      },
      "execution_count": 10,
      "outputs": [
        {
          "output_type": "execute_result",
          "data": {
            "text/plain": [
              "<Axes: xlabel='SalePrice', ylabel='Count'>"
            ]
          },
          "metadata": {},
          "execution_count": 10
        },
        {
          "output_type": "display_data",
          "data": {
            "text/plain": [
              "<Figure size 640x480 with 1 Axes>"
            ],
            "image/png": "[encoded data removed]"
          },
          "metadata": {}
        }
      ]
    },
    {
      "cell_type": "code",
      "source": [
        "import scipy.stats as stats"
      ],
      "metadata": {
        "id": "WIJdFIDvKS4I"
      },
      "execution_count": 11,
      "outputs": []
    },
    {
      "cell_type": "code",
      "source": [
        "t_stat, p_value = stats.ttest_ind(ames_acyes, ames_acno, equal_var= False)\n",
        "\n",
        "if p_value < 0.05:\n",
        "  result = 'reject the null hypothesis'\n",
        "else:\n",
        "  result = 'fail to result the null hypothesis'\n",
        "\n",
        "print(f\"with a p-value of {p_value:.5f}, we {result}.\")"
      ],
      "metadata": {
        "colab": {
          "base_uri": "https://localhost:8080/"
        },
        "id": "6TWbR8cxKbcK",
        "outputId": "d8f4971a-0e59-4dda-e6ff-adf9179e3593"
      },
      "execution_count": 12,
      "outputs": [
        {
          "output_type": "stream",
          "name": "stdout",
          "text": [
            "with a p-value of 0.00000, we reject the null hypothesis.\n"
          ]
        }
      ]
    },
    {
      "cell_type": "code",
      "source": [],
      "metadata": {
        "id": "lB3BYbDcK_l1"
      },
      "execution_count": null,
      "outputs": []
    }
  ]
}